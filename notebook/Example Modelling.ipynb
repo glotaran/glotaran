{
 "cells": [
  {
   "cell_type": "code",
   "execution_count": 1,
   "metadata": {
    "collapsed": false
   },
   "outputs": [],
   "source": [
    "from glotaran_core import (create_parameter_list, Parameter, KineticModel, KMatrix, KineticMegacomplex,\n",
    "                           ZeroConstraint, EqualConstraint, EqualAreaConstraint, FixedConstraint, BoundConstraint,\n",
    "                           Relation, KineticDataset, Scaling, GaussianIrf)"
   ]
  },
  {
   "cell_type": "code",
   "execution_count": 2,
   "metadata": {
    "collapsed": false,
    "scrolled": true
   },
   "outputs": [
    {
     "name": "stdout",
     "output_type": "stream",
     "text": [
      "Parameter\n",
      "---------\n",
      "\n",
      "Index: 1 Initial Value: 1.0 Label: None\n",
      "Index: 2 Initial Value: 3.0 Label: k1\n",
      "Index: 3 Initial Value: 4.0 Label: k2\n",
      "Index: 4 Initial Value: 5.87 Label: k3\n",
      "Index: 5 Initial Value: 1.0 Label: c\n",
      "Index: 6 Initial Value: 1.0 Label: None\n",
      "Index: 7 Initial Value: 1.0 Label: None\n",
      "\n",
      "Parameter Constraints\n",
      "--------------------\n",
      "\n",
      "Type: 'Fixed' Parameters: [1, 2, 3, 54]\n",
      "Type: 'Bound' Parameters: (100, 150) Lower: 0 Upper: nan\n",
      "\n",
      "Parameter Relations\n",
      "------------------\n",
      "\n",
      "Parameter 86 =+1*P89+1*P90+0-1.0*P87\n",
      "Parameter 80 =-1.0*P81+1*P83+1*P84\n",
      "\n",
      "Megacomplexes\n",
      "-------------\n",
      "\n",
      "Label: cmplx1\n",
      "Initial Concentration:[5, 5, 5]\n",
      "Label: cmplx2\n",
      "Initial Concentration:[5, 5, 5]\n",
      "\n",
      "Compartment Constraints\n",
      "------------------------\n",
      "\n",
      "Type: 'Zero' Intervals: [(799.99, 800.0), (1, 100)]\n",
      "Type: 'Equal' Intervals: [(60, 799.99)] Target: 9 Parameter: 6\n",
      "Type: 'Equal Area' Intervals: [(670, 810)] Target: 1 Parameter: 7 Weight: 0.0016\n",
      "\n",
      "Datasets\n",
      "--------\n",
      "\n",
      "Dataset 'set1'\n",
      "\n",
      "\tConcentration Scaling Parameter: None\n",
      "\tMegacomplexes: ['complx1']\n",
      "\n",
      "\t\tIRF: irf1\n",
      "Dataset 'set2'\n",
      "\n",
      "\tConcentration Scaling Parameter: None\n",
      "\tMegacomplexes: ['complx1', 'cmplx2']\n",
      "\tScalings:\n",
      "\t\t- Megacomplexes: ['complx2'] Compartments: [2, 3] Parameter:78\n",
      "\n",
      "\t\tIRF: irf2\n",
      "\n",
      "\n",
      "K-Matrices\n",
      "----------\n",
      "\n",
      "Label: km1\n",
      "Matrix:\n",
      "[[11 13 16 18]\n",
      " [12  0  0  0]\n",
      " [15  0  0  0]\n",
      " [17  0  0  0]]\n",
      "\n",
      "Label: km2\n",
      "Matrix:\n",
      "[[11 13 16 18]\n",
      " [12  0  0  0]\n",
      " [15  0  0  0]\n",
      " [17  0  0  0]]\n",
      "\n",
      "\n",
      "\n",
      "IRFs\n",
      "----\n",
      "\n",
      "\n",
      "Label: irf1 Type: Gaussian Center: [41] Width: [42] Center Dispersion: Width Dispersion [43, 44]        \n",
      "Label: irf2 Type: Double Gaussian Center: [46] Width: [47, 48] Center Dispersion: Width Dispersion [49]        \n"
     ]
    }
   ],
   "source": [
    "model = KineticModel()\n",
    "\n",
    "plist = create_parameter_list([1, [\"k1\",3]])\n",
    "model.add_parameter(plist)\n",
    "model.add_parameter(Parameter(4, label=\"k2\"))\n",
    "model.add_parameter(Parameter(5.87, label=\"k3\"))\n",
    "model.add_parameter(Parameter(1, label=\"c\"))\n",
    "model.add_parameter(Parameter(1))\n",
    "model.add_parameter(Parameter(1))\n",
    "\n",
    "model.add_compartment_constraint(ZeroConstraint(5, [(799.99, 800.00), (1,100)]))\n",
    "model.add_compartment_constraint(EqualConstraint(5, (60, 799.99), 9, 6))\n",
    "model.add_compartment_constraint(EqualAreaConstraint(3, (670, 810), 1, 7, 0.0016))\n",
    "\n",
    "model.add_parameter_constraint(FixedConstraint([1, 2, 3, 54]))\n",
    "model.add_parameter_constraint(BoundConstraint((100, 150), lower=0))\n",
    "\n",
    "model.add_relation(Relation(86, {'const': 0, 89: 1, 90: 1, 87: -1.0}))\n",
    "model.add_relation(Relation(80, {83: 1, 84: 1, 81: -1.0}))\n",
    "\n",
    "km1 = KMatrix(\"km1\", {\n",
    "      (1,1): 11,\n",
    "      (2,1): 12,\n",
    "      (1,2): 13,\n",
    "      (3,1): 15,\n",
    "      (1,3): 16,\n",
    "      (4,1): 17,\n",
    "      (1,4): 18\n",
    "})\n",
    "model.add_k_matrix(km1)\n",
    "\n",
    "km2 = KMatrix(\"km2\", {\n",
    "      (1,1): 11,\n",
    "      (2,1): 12,\n",
    "      (1,2): 13,\n",
    "      (3,1): 15,\n",
    "      (1,3): 16,\n",
    "      (4,1): 17,\n",
    "      (1,4): 18\n",
    "})\n",
    "model.add_k_matrix(km2)\n",
    "\n",
    "cmplx1 = KineticMegacomplex(\"cmplx1\", \"km1\", [5,5,5])\n",
    "model.add_megacomplex(cmplx1)\n",
    "\n",
    "\n",
    "cmplx2 = KineticMegacomplex(\"cmplx2\", \"km2\", [5,5,5])\n",
    "model.add_megacomplex(cmplx2)\n",
    "\n",
    "model.add_irf(GaussianIrf('irf1', 41, 42, center_dispersion=[43,44], width_dispersion=45))\n",
    "model.add_irf(GaussianIrf('irf2', 46, [47, 48], center_dispersion=49))\n",
    "\n",
    "\n",
    "dataset1 = KineticDataset(\"set1\", [], [], [])\n",
    "dataset1.add_megacomplex(\"complx1\")\n",
    "dataset1.set_concentration_scaling(67)\n",
    "dataset1.set_irf('irf1')\n",
    "model.add_dataset(dataset1)\n",
    "dataset2 = KineticDataset(\"set2\", [], [], [])\n",
    "dataset2.add_megacomplex([\"complx1\", \"cmplx2\"])\n",
    "dataset2.add_scaling(Scaling(\"complx2\",[2,3],78))\n",
    "dataset2.set_irf('irf2')\n",
    "model.add_dataset(dataset2)\n",
    "\n",
    "print(model)\n",
    "    "
   ]
  },
  {
   "cell_type": "code",
   "execution_count": 3,
   "metadata": {
    "collapsed": false
   },
   "outputs": [
    {
     "name": "stdout",
     "output_type": "stream",
     "text": [
      "Gaussian\n"
     ]
    }
   ],
   "source": [
    "c = GaussianIrf('irf1', 41, 42, center_dispersion=[43,44], width_dispersion=45)\n",
    "print(c.type_string())"
   ]
  },
  {
   "cell_type": "code",
   "execution_count": null,
   "metadata": {
    "collapsed": true
   },
   "outputs": [],
   "source": []
  }
 ],
 "metadata": {
  "kernelspec": {
   "display_name": "Python 3",
   "language": "python",
   "name": "python3"
  },
  "language_info": {
   "codemirror_mode": {
    "name": "ipython",
    "version": 3
   },
   "file_extension": ".py",
   "mimetype": "text/x-python",
   "name": "python",
   "nbconvert_exporter": "python",
   "pygments_lexer": "ipython3",
   "version": "3.5.1"
  }
 },
 "nbformat": 4,
 "nbformat_minor": 1
}
