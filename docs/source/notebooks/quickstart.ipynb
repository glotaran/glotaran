{
 "cells": [
  {
   "cell_type": "markdown",
   "metadata": {},
   "source": [
    "# Quickstart/Cheat-Sheet\n",
    "\n",
    "<div class=\"alert alert-warning\">\n",
    "\n",
    "Warning\n",
    "\n",
    "`pyglotaran` is in very early stage of development. You should not use it for actual science at the moment.\n",
    "\n",
    "</div>\n",
    "\n",
    "To start using `pyglotaran` in your project, you have to import it first.\n",
    "In addition we need to import some extra components for later use."
   ]
  },
  {
   "cell_type": "code",
   "execution_count": null,
   "metadata": {},
   "outputs": [],
   "source": [
    "import glotaran as gta\n",
    "from glotaran.analysis.optimize import optimize\n",
    "from glotaran.analysis.scheme import Scheme"
   ]
  },
  {
   "cell_type": "markdown",
   "metadata": {},
   "source": [
    "Let us get some example data to analyze:"
   ]
  },
  {
   "cell_type": "code",
   "execution_count": null,
   "metadata": {},
   "outputs": [],
   "source": [
    "from glotaran.examples.sequential import dataset\n",
    "\n",
    "dataset"
   ]
  },
  {
   "cell_type": "markdown",
   "metadata": {},
   "source": [
    "Like all data in `pyglotaran`, the dataset is a [xarray.Dataset](https://xarray.pydata.org/en/stable/api.html#dataset).\n",
    "You can find more information about the ``xarray`` library the [xarray hompage](http://xarray.pydata.org/en/stable/).\n",
    "\n",
    "The loaded dataset is a simulated sequential model."
   ]
  },
  {
   "cell_type": "markdown",
   "metadata": {},
   "source": [
    "Now we lets plot some time traces."
   ]
  },
  {
   "cell_type": "code",
   "execution_count": null,
   "metadata": {},
   "outputs": [],
   "source": [
    "plot_data = dataset.data.sel(spectral=[620, 630, 650], method=\"nearest\")\n",
    "plot_data.plot.line(x=\"time\", aspect=2, size=5);"
   ]
  },
  {
   "cell_type": "markdown",
   "metadata": {},
   "source": [
    "We can also plot spectra at different times."
   ]
  },
  {
   "cell_type": "code",
   "execution_count": null,
   "metadata": {},
   "outputs": [],
   "source": [
    "plot_data = dataset.data.sel(time=[1, 10, 20], method=\"nearest\")\n",
    "plot_data.plot.line(x=\"spectral\", aspect=2, size=5);"
   ]
  },
  {
   "cell_type": "markdown",
   "metadata": {},
   "source": [
    "To get an idea about how to model your data, you should inspect the singular\n",
    "value decomposition. Pyglotaran has a function to calculate it (among other\n",
    "things)."
   ]
  },
  {
   "cell_type": "code",
   "execution_count": null,
   "metadata": {},
   "outputs": [],
   "source": [
    "dataset = gta.io.prepare_time_trace_dataset(dataset)\n",
    "dataset"
   ]
  },
  {
   "cell_type": "markdown",
   "metadata": {},
   "source": [
    "First, take a look at the first 10 singular values:"
   ]
  },
  {
   "cell_type": "code",
   "execution_count": null,
   "metadata": {},
   "outputs": [],
   "source": [
    "plot_data = dataset.data_singular_values.sel(singular_value_index=range(0, 10))\n",
    "plot_data.plot(yscale=\"log\", marker=\"o\", linewidth=0, aspect=2, size=5);"
   ]
  },
  {
   "cell_type": "markdown",
   "metadata": {},
   "source": [
    "To analyze our data, we need to create a model. \n",
    "\n",
    "Create a file called `model.yaml` in your working directory and fill it with the following:\n",
    "```yaml\n",
    "type: kinetic-spectrum\n",
    "\n",
    "initial_concentration:\n",
    " input:\n",
    "   compartments: [s1, s2, s3]\n",
    "   parameters: [input.1, input.0, input.0]\n",
    "\n",
    "k_matrix:\n",
    " k1:\n",
    "   matrix:\n",
    "     (s2, s1): kinetic.1\n",
    "     (s3, s2): kinetic.2\n",
    "     (s3, s3): kinetic.3\n",
    "\n",
    "megacomplex:\n",
    " m1:\n",
    "   k_matrix: [k1]\n",
    "\n",
    "irf:\n",
    " irf1:\n",
    "   type: gaussian\n",
    "   center: irf.center\n",
    "   width: irf.width\n",
    "\n",
    "dataset:\n",
    " dataset1:\n",
    "   initial_concentration: input\n",
    "   megacomplex: [m1]\n",
    "   irf: irf1\n",
    "```\n",
    "\n",
    "Now you can load the model file."
   ]
  },
  {
   "cell_type": "code",
   "execution_count": null,
   "metadata": {},
   "outputs": [],
   "source": [
    "model = gta.read_model_from_yaml_file(\"model.yaml\")"
   ]
  },
  {
   "cell_type": "markdown",
   "metadata": {},
   "source": [
    "You can check your model for problems with `model.validate`."
   ]
  },
  {
   "cell_type": "code",
   "execution_count": null,
   "metadata": {},
   "outputs": [],
   "source": [
    "model.validate()"
   ]
  },
  {
   "cell_type": "markdown",
   "metadata": {},
   "source": [
    "Now define some starting parameters. Create a file called `parameters.yaml` with\n",
    "the following content.\n",
    "\n",
    "```yaml\n",
    "input:\n",
    " - ['1', 1, {'vary': False, 'non-negative': False}]\n",
    " - ['0', 0, {'vary': False, 'non-negative': False}]\n",
    "\n",
    "kinetic: [\n",
    "    0.5,\n",
    "    0.3,\n",
    "    0.1,\n",
    "]\n",
    "\n",
    "irf:\n",
    " - ['center', 0.3]\n",
    " - ['width', 0.1]\n",
    "```"
   ]
  },
  {
   "cell_type": "code",
   "execution_count": null,
   "metadata": {},
   "outputs": [],
   "source": [
    "parameters = gta.read_parameters_from_yaml_file(\"parameters.yaml\")"
   ]
  },
  {
   "cell_type": "markdown",
   "metadata": {},
   "source": [
    "You can `model.validate` also to check for missing parameters."
   ]
  },
  {
   "cell_type": "code",
   "execution_count": null,
   "metadata": {},
   "outputs": [],
   "source": [
    "model.validate(parameters=parameters)"
   ]
  },
  {
   "cell_type": "markdown",
   "metadata": {},
   "source": [
    "Since not all problems in the model can be detected automatically it is wise to\n",
    "visually inspect the model. For this purpose, you can just print the model."
   ]
  },
  {
   "cell_type": "code",
   "execution_count": null,
   "metadata": {},
   "outputs": [],
   "source": [
    "print(model)"
   ]
  },
  {
   "cell_type": "markdown",
   "metadata": {},
   "source": [
    "The same way you should inspect your parameters."
   ]
  },
  {
   "cell_type": "code",
   "execution_count": null,
   "metadata": {},
   "outputs": [],
   "source": [
    "print(parameters)"
   ]
  },
  {
   "cell_type": "markdown",
   "metadata": {},
   "source": [
    "Now we have everything together to optimize our parameters. First we import optimize."
   ]
  },
  {
   "cell_type": "code",
   "execution_count": null,
   "metadata": {},
   "outputs": [],
   "source": [
    "scheme = Scheme(model, parameters, {\"dataset1\": dataset})\n",
    "result = optimize(scheme)\n",
    "print(result)\n",
    "print(result.optimized_parameters)"
   ]
  },
  {
   "cell_type": "markdown",
   "metadata": {},
   "source": [
    "You can get the resulting data for your dataset with `result.get_dataset`."
   ]
  },
  {
   "cell_type": "code",
   "execution_count": null,
   "metadata": {},
   "outputs": [],
   "source": [
    "result_dataset = result.get_dataset(\"dataset1\")\n",
    "result_dataset"
   ]
  },
  {
   "cell_type": "markdown",
   "metadata": {},
   "source": [
    "The resulting data can be visualized the same way as the dataset. To judge the\n",
    "quality of the fit, you should look at first left and right singular vectors of\n",
    "the residual."
   ]
  },
  {
   "cell_type": "code",
   "execution_count": null,
   "metadata": {},
   "outputs": [],
   "source": [
    "residual_left = result_dataset.residual_left_singular_vectors.sel(left_singular_value_index=0)\n",
    "residual_right = result_dataset.residual_right_singular_vectors.sel(right_singular_value_index=0)\n",
    "residual_left.plot.line(x=\"time\", aspect=2, size=5)\n",
    "residual_right.plot.line(x=\"spectral\", aspect=2, size=5);"
   ]
  },
  {
   "cell_type": "markdown",
   "metadata": {},
   "source": [
    "Finally, you can save your result."
   ]
  },
  {
   "cell_type": "code",
   "execution_count": null,
   "metadata": {},
   "outputs": [],
   "source": [
    "result_dataset.to_netcdf(\"dataset1.nc\")"
   ]
  }
 ],
 "metadata": {
  "kernelspec": {
   "display_name": "Python 3",
   "language": "python",
   "name": "python3"
  },
  "language_info": {
   "codemirror_mode": {
    "name": "ipython",
    "version": 3
   },
   "file_extension": ".py",
   "mimetype": "text/x-python",
   "name": "python",
   "nbconvert_exporter": "python",
   "pygments_lexer": "ipython3",
   "version": "3.8.6"
  }
 },
 "nbformat": 4,
 "nbformat_minor": 4
}
